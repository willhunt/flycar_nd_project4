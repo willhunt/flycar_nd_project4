{
 "cells": [
  {
   "cell_type": "markdown",
   "metadata": {},
   "source": [
    "Transition function\n",
    "\n",
    "\\begin{align}\n",
    "  g(x_t, u_t, \\Delta t) &=\n",
    "  \\left[  \\begin{array}{c}\n",
    "      x_{t,x} +  x_{t,\\dot{x}} \\Delta t \\\\\n",
    "      x_{t,y} +  x_{t,\\dot{y}} \\Delta t \\\\\n",
    "      x_{t,z} + x_{t,\\dot{z}} \\Delta t\\\\\n",
    "      x_{t,\\dot{x}} \\\\\n",
    "      x_{t,\\dot{y}} \\\\\n",
    "      x_{t,\\dot{z}} - g \\Delta t \\\\\n",
    "      x_{t, \\psi}\\\\\n",
    "    \\end{array}\\right] + \n",
    "  \\left[ \\begin{array}{cccc}\n",
    "      0&0&0&0\\\\\n",
    "      0&0&0&0\\\\\n",
    "      0&0&0&0\\\\\n",
    "      R_{bg}[0:]&&&0\\\\\n",
    "      R_{bg}[1:]&&&0\\\\\n",
    "      R_{bg}[2:]&&&0\\\\\n",
    "      0&0&0&1\n",
    "      \\end{array}\n",
    "    \\right]   u_t \\Delta t\n",
    "\\end{align}"
   ]
  },
  {
   "cell_type": "code",
   "execution_count": 37,
   "metadata": {},
   "outputs": [],
   "source": [
    "import sympy as sp\n",
    "# sp.init_printing(use_latex='mathjax')"
   ]
  },
  {
   "cell_type": "code",
   "execution_count": 38,
   "metadata": {},
   "outputs": [],
   "source": [
    "x_x, x_y, x_z, x_xdot, x_ydot, x_zdot, x_phi = sp.symbols(\"x_x, x_y, x_z, x_{\\dot{x}}, x_{\\dot{y}}, x_{\\dot{z}}, x_{\\phi}\")\n",
    "r_00, r_01, r_02, r_10, r_11, r_12, r_20, r_21, r_22 = sp.symbols(\"R_00, R_01, R_02, R_10, R_11, R_12, R_20, R_21, R_22\")\n",
    "x_ddot, y_ddot, z_ddot, phi_dot= sp.symbols(\"\\ddot{x}^b, \\ddot{y}^b, \\ddot{z}^b, \\dot{\\phi}\")\n",
    "dt = sp.symbols(\"dt\")"
   ]
  },
  {
   "cell_type": "code",
   "execution_count": 39,
   "metadata": {},
   "outputs": [
    {
     "output_type": "execute_result",
     "data": {
      "text/latex": "$\\displaystyle \\left[\\begin{matrix}0 & 0 & 0 & 0\\\\0 & 0 & 0 & 0\\\\0 & 0 & 0 & 0\\\\R_{00} & R_{01} & R_{02} & 0\\\\R_{10} & R_{11} & R_{12} & 0\\\\R_{20} & R_{21} & R_{22} & 0\\\\0 & 0 & 0 & 1\\end{matrix}\\right]$",
      "text/plain": "⎡ 0    0    0   0⎤\n⎢                ⎥\n⎢ 0    0    0   0⎥\n⎢                ⎥\n⎢ 0    0    0   0⎥\n⎢                ⎥\n⎢R₀₀  R₀₁  R₀₂  0⎥\n⎢                ⎥\n⎢R₁₀  R₁₁  R₁₂  0⎥\n⎢                ⎥\n⎢R₂₀  R₂₁  R₂₂  0⎥\n⎢                ⎥\n⎣ 0    0    0   1⎦"
     },
     "metadata": {},
     "execution_count": 39
    }
   ],
   "source": [
    "B = sp.Matrix([\n",
    "    [0, 0, 0, 0],\n",
    "    [0, 0, 0, 0],\n",
    "    [0, 0, 0, 0],\n",
    "    [r_00, r_01, r_02, 0],\n",
    "    [r_10, r_11, r_12, 0],\n",
    "    [r_20, r_21, r_22, 0],\n",
    "    [0, 0, 0, 1]\n",
    "])\n",
    "B"
   ]
  },
  {
   "cell_type": "code",
   "execution_count": 40,
   "metadata": {},
   "outputs": [
    {
     "output_type": "execute_result",
     "data": {
      "text/latex": "$\\displaystyle \\left[\\begin{matrix}\\ddot{x}^b\\\\\\ddot{y}^b\\\\\\ddot{z}^b\\\\\\dot{\\phi}\\end{matrix}\\right]$",
      "text/plain": "⎡\\ddot{x}__b⎤\n⎢           ⎥\n⎢\\ddot{y}__b⎥\n⎢           ⎥\n⎢\\ddot{z}__b⎥\n⎢           ⎥\n⎣\\dot{\\phi} ⎦"
     },
     "metadata": {},
     "execution_count": 40
    }
   ],
   "source": [
    "u_t = sp.Matrix([x_ddot, y_ddot, z_ddot, phi_dot])\n",
    "u_t"
   ]
  },
  {
   "cell_type": "code",
   "execution_count": 41,
   "metadata": {},
   "outputs": [
    {
     "output_type": "execute_result",
     "data": {
      "text/latex": "$\\displaystyle \\left[\\begin{matrix}0\\\\0\\\\0\\\\dt \\left(R_{00} \\ddot{x}^b + R_{01} \\ddot{y}^b + R_{02} \\ddot{z}^b\\right)\\\\dt \\left(R_{10} \\ddot{x}^b + R_{11} \\ddot{y}^b + R_{12} \\ddot{z}^b\\right)\\\\dt \\left(R_{20} \\ddot{x}^b + R_{21} \\ddot{y}^b + R_{22} \\ddot{z}^b\\right)\\\\\\dot{\\phi} dt\\end{matrix}\\right]$",
      "text/plain": "⎡                           0                            ⎤\n⎢                                                        ⎥\n⎢                           0                            ⎥\n⎢                                                        ⎥\n⎢                           0                            ⎥\n⎢                                                        ⎥\n⎢dt⋅(R₀₀⋅\\ddot{x}__b + R₀₁⋅\\ddot{y}__b + R₀₂⋅\\ddot{z}__b)⎥\n⎢                                                        ⎥\n⎢dt⋅(R₁₀⋅\\ddot{x}__b + R₁₁⋅\\ddot{y}__b + R₁₂⋅\\ddot{z}__b)⎥\n⎢                                                        ⎥\n⎢dt⋅(R₂₀⋅\\ddot{x}__b + R₂₁⋅\\ddot{y}__b + R₂₂⋅\\ddot{z}__b)⎥\n⎢                                                        ⎥\n⎣                     \\dot{\\phi}⋅dt                      ⎦"
     },
     "metadata": {},
     "execution_count": 41
    }
   ],
   "source": [
    "B * u_t * dt"
   ]
  },
  {
   "cell_type": "code",
   "execution_count": 42,
   "metadata": {},
   "outputs": [
    {
     "output_type": "execute_result",
     "data": {
      "text/latex": "$\\displaystyle \\left[\\begin{matrix}R_{00} \\ddot{x}^b + R_{01} \\ddot{y}^b + R_{02} \\ddot{z}^b\\\\R_{10} \\ddot{x}^b + R_{11} \\ddot{y}^b + R_{12} \\ddot{z}^b\\\\R_{20} \\ddot{x}^b + R_{21} \\ddot{y}^b + R_{22} \\ddot{z}^b\\end{matrix}\\right]$",
      "text/plain": "⎡R₀₀⋅\\ddot{x}__b + R₀₁⋅\\ddot{y}__b + R₀₂⋅\\ddot{z}__b⎤\n⎢                                                   ⎥\n⎢R₁₀⋅\\ddot{x}__b + R₁₁⋅\\ddot{y}__b + R₁₂⋅\\ddot{z}__b⎥\n⎢                                                   ⎥\n⎣R₂₀⋅\\ddot{x}__b + R₂₁⋅\\ddot{y}__b + R₂₂⋅\\ddot{z}__b⎦"
     },
     "metadata": {},
     "execution_count": 42
    }
   ],
   "source": [
    "r = B[3:6, 0:3]\n",
    "a = u_t[0:3, 0]\n",
    "r * a"
   ]
  }
 ],
 "metadata": {
  "language_info": {
   "codemirror_mode": {
    "name": "ipython",
    "version": 2
   },
   "file_extension": ".py",
   "mimetype": "text/x-python",
   "name": "python",
   "nbconvert_exporter": "python",
   "pygments_lexer": "ipython2",
   "version": "3.6.3-final"
  },
  "orig_nbformat": 2,
  "kernelspec": {
   "name": "python36364bitfcndcondaddf0d4dcf10a44b1be5ab56471cd7d22",
   "display_name": "Python 3.6.3 64-bit ('fcnd': conda)"
  }
 },
 "nbformat": 4,
 "nbformat_minor": 2
}